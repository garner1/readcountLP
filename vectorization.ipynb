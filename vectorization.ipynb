{
 "cells": [
  {
   "cell_type": "markdown",
   "metadata": {},
   "source": [
    "Given a bam file containing unique mapped reads, we build a statistics taking into account the frequency of co-occurrences of each read locations. In computational linguistic terminology, for each chromosome, the location is the word and the document can be a given genomic region (entire chromosome, the genome, or a bin).  "
   ]
  },
  {
   "cell_type": "code",
   "execution_count": 1,
   "metadata": {},
   "outputs": [],
   "source": [
    "import sys\n",
    "import csv\n",
    "import numpy as np\n",
    "import pandas as pd\n",
    "import os.path\n",
    "import pickle\n",
    "from sklearn.manifold import TSNE\n",
    "import matplotlib.pyplot as plt\n",
    "import gensim, logging\n",
    "from os import listdir\n",
    "from os.path import isfile, join\n",
    "\n",
    "logging.basicConfig(format='%(asctime)s : %(levelname)s : %(message)s', level=logging.INFO)\n",
    "###############################################################                                                                                                                                             \n",
    "import sklearn\n",
    "from sklearn import datasets\n",
    "from sklearn.feature_extraction.text import CountVectorizer"
   ]
  },
  {
   "cell_type": "markdown",
   "metadata": {},
   "source": [
    "We build a document-term matrix from chromosomes data:"
   ]
  },
  {
   "cell_type": "code",
   "execution_count": 2,
   "metadata": {},
   "outputs": [],
   "source": [
    "vectorizer = CountVectorizer(min_df=1) # set the min numb of times a word can occur\n",
    "corpus = open('/home/garner1/Work/dataset/readcountLP/chr1.tsv')\n",
    "dtm = vectorizer.fit_transform(corpus) # get document-term matrix                                                                                                                                           \n",
    "vocab = vectorizer.get_feature_names() # a list                                                                                                                                                             "
   ]
  },
  {
   "cell_type": "markdown",
   "metadata": {},
   "source": [
    "Since the word co-occurrence matrix is by definition W=D^T*D, from the singular value decomposition of D=USV^T it follows W=D^T*D=VSU^T*USV^T=V*S^2*V^T. Since SVD of W is computationally expensive (even memory wise 128G of RAM are not enough) it is necessary to perform SVD on D."
   ]
  },
  {
   "cell_type": "code",
   "execution_count": 16,
   "metadata": {},
   "outputs": [
    {
     "data": {
      "text/plain": [
       "<matplotlib.axes._subplots.AxesSubplot at 0x7f362da10450>"
      ]
     },
     "execution_count": 16,
     "metadata": {},
     "output_type": "execute_result"
    },
    {
     "data": {
      "image/png": "[encoded data removed]",
      "text/plain": [
       "<matplotlib.figure.Figure at 0x7f362da10610>"
      ]
     },
     "metadata": {},
     "output_type": "display_data"
    }
   ],
   "source": [
    "from scipy.sparse.linalg import svds, eigs\n",
    "\n",
    "u, s, vt = svds(dtm.asfptype(), k=50)\n",
    "import seaborn as sns\n",
    "sns.set(color_codes=True)\n",
    "sns.pointplot(range(len(s)),s)"
   ]
  },
  {
   "cell_type": "code",
   "execution_count": 9,
   "metadata": {},
   "outputs": [
    {
     "name": "stdout",
     "output_type": "stream",
     "text": [
      "(458, 685073)\n",
      "(10, 685073)\n"
     ]
    }
   ],
   "source": [
    "print (dtm.shape)\n",
    "print (vt.shape)"
   ]
  },
  {
   "cell_type": "markdown",
   "metadata": {},
   "source": [
    "Looking at the frequency of genomic locations we can see how the vast majority is unique, and there is a fast decay of the number of locations in terms of their repeats: most are unique and few are highly repeated."
   ]
  },
  {
   "cell_type": "code",
   "execution_count": null,
   "metadata": {},
   "outputs": [],
   "source": [
    "dtm_word = dtm.sum(axis=0)\n",
    "print (dtm_word.shape)\n",
    "\n",
    "%matplotlib inline\n",
    "\n",
    "import numpy as np\n",
    "import pandas as pd\n",
    "from scipy import stats, integrate\n",
    "import matplotlib.pyplot as plt\n",
    "\n",
    "import seaborn as sns\n",
    "sns.set(color_codes=True)\n",
    "\n",
    "ax = sns.distplot(dtm_word[(dtm_word<100) & (dtm_word>0)], bins=20, kde=False)\n",
    "ax.set_yscale('log')\n",
    "ax.set_ylabel('number of locations occurring x times')\n",
    "ax.set_xlabel('x = number of times a location is re-occurring')"
   ]
  },
  {
   "cell_type": "markdown",
   "metadata": {},
   "source": [
    "A term-term co-occurence matrix is obtained as the product of dtm.T * dtm. This also is a sparse matrix and, after truncated SVD, we can identify main eigenwords:"
   ]
  },
  {
   "cell_type": "code",
   "execution_count": null,
   "metadata": {},
   "outputs": [],
   "source": [
    "wwm = dtm.transpose().dot(dtm)      # build word-word matrix"
   ]
  },
  {
   "cell_type": "code",
   "execution_count": null,
   "metadata": {},
   "outputs": [],
   "source": [
    "from bokeh.plotting import figure, output_file, show\n",
    "\n",
    "# prepare some data\n",
    "mode = 8\n",
    "#x = range(len(u[:,vec]))\n",
    "#y = u[:,vec]\n",
    "x = range(len(vt[mode,:]))\n",
    "y = vt[mode,:]\n",
    "\n",
    "# output to static HTML file\n",
    "output_file(\"lines.html\")\n",
    "\n",
    "# create a new plot with a title and axis labels\n",
    "p = figure(title=\"eigenword\", x_axis_label='word', y_axis_label='y')\n",
    "\n",
    "# add a line renderer with legend and line thickness\n",
    "p.circle(x, y, legend=\"Eigenword from co-occurrence matrix\", size=3)\n",
    "\n",
    "# show the results\n",
    "show(p)"
   ]
  }
 ],
 "metadata": {
  "kernelspec": {
   "display_name": "Python 2",
   "language": "python",
   "name": "python2"
  },
  "language_info": {
   "codemirror_mode": {
    "name": "ipython",
    "version": 2
   },
   "file_extension": ".py",
   "mimetype": "text/x-python",
   "name": "python",
   "nbconvert_exporter": "python",
   "pygments_lexer": "ipython2",
   "version": "2.7.14"
  }
 },
 "nbformat": 4,
 "nbformat_minor": 2
}
